{
  "cells": [
    {
      "cell_type": "markdown",
      "metadata": {
        "id": "view-in-github",
        "colab_type": "text"
      },
      "source": [
        "<a href=\"https://colab.research.google.com/github/Lplus0/DeepLearningLink/blob/main/Pytorch_MSE_7858.ipynb\" target=\"_parent\"><img src=\"https://colab.research.google.com/assets/colab-badge.svg\" alt=\"Open In Colab\"/></a>"
      ]
    },
    {
      "cell_type": "code",
      "execution_count": null,
      "id": "g0HRBU4BWic-",
      "metadata": {
        "id": "g0HRBU4BWic-",
        "scrolled": true
      },
      "outputs": [],
      "source": [
        "!pip install yfinance\n",
        "!pip install pandas_datareader\n",
        "!pip install torch"
      ]
    },
    {
      "cell_type": "code",
      "source": [
        "!pip list | grep numpy"
      ],
      "metadata": {
        "colab": {
          "base_uri": "https://localhost:8080/"
        },
        "id": "zLm5k_BjHIj3",
        "outputId": "db0a54e3-7750-418b-e16d-2385c05ee51b"
      },
      "id": "zLm5k_BjHIj3",
      "execution_count": null,
      "outputs": [
        {
          "output_type": "stream",
          "name": "stdout",
          "text": [
            "numpy                            1.25.2\n"
          ]
        }
      ]
    },
    {
      "cell_type": "code",
      "execution_count": null,
      "id": "ab8d607b",
      "metadata": {
        "id": "ab8d607b"
      },
      "outputs": [],
      "source": [
        "import torch\n",
        "import numpy as np\n",
        "import pandas as pd\n",
        "import pylab as plt\n",
        "from pandas_datareader import data\n",
        "from sklearn.preprocessing import MinMaxScaler\n",
        "import yfinance as yf"
      ]
    },
    {
      "cell_type": "code",
      "execution_count": null,
      "id": "7c1101e0",
      "metadata": {
        "scrolled": false,
        "colab": {
          "base_uri": "https://localhost:8080/"
        },
        "id": "7c1101e0",
        "outputId": "588b330b-77c5-4bb5-cfef-05f0b36f760f"
      },
      "outputs": [
        {
          "output_type": "stream",
          "name": "stderr",
          "text": [
            "[*********************100%%**********************]  1 of 1 completed\n",
            "[*********************100%%**********************]  1 of 1 completed\n"
          ]
        }
      ],
      "source": [
        "yf.pdr_override()\n",
        "\n",
        "mtr = data.get_data_yahoo('0066.HK',start=\"2010-01-01\",\n",
        "                          end=\"2020-06-30\").reset_index()\n",
        "mtr = mtr[['Close']]\n",
        "\n",
        "mtr1 = data.get_data_yahoo('0066.HK',start=\"2021-01-01\",\n",
        "                          end=\"2021-04-30\").reset_index()\n",
        "mtr1 = mtr1[['Close']]\n"
      ]
    },
    {
      "cell_type": "code",
      "execution_count": null,
      "id": "cd022877",
      "metadata": {
        "scrolled": true,
        "colab": {
          "base_uri": "https://localhost:8080/"
        },
        "id": "cd022877",
        "outputId": "2b9366ab-6b09-43f7-8c99-8d5bb248e41c"
      },
      "outputs": [
        {
          "output_type": "execute_result",
          "data": {
            "text/plain": [
              "(79, 1)"
            ]
          },
          "metadata": {},
          "execution_count": 43
        }
      ],
      "source": [
        "mtr.values\n",
        "mtr1.shape"
      ]
    },
    {
      "cell_type": "code",
      "execution_count": null,
      "id": "4e26816a",
      "metadata": {
        "scrolled": true,
        "id": "4e26816a"
      },
      "outputs": [],
      "source": [
        "scaler = MinMaxScaler()\n",
        "mtr_scaled = scaler.fit_transform(mtr.values)"
      ]
    },
    {
      "cell_type": "code",
      "source": [
        "scaler = MinMaxScaler()\n",
        "mtr1_scaled = scaler.fit_transform(mtr1.values)"
      ],
      "metadata": {
        "id": "FVI7nv0keyGA"
      },
      "id": "FVI7nv0keyGA",
      "execution_count": null,
      "outputs": []
    },
    {
      "cell_type": "code",
      "execution_count": null,
      "id": "248dd942",
      "metadata": {
        "scrolled": false,
        "colab": {
          "base_uri": "https://localhost:8080/"
        },
        "id": "248dd942",
        "outputId": "7657e7dd-99b3-45b4-ce1f-9b678729edf8"
      },
      "outputs": [
        {
          "output_type": "execute_result",
          "data": {
            "text/plain": [
              "(array([[0.12158054],\n",
              "        [0.11094229],\n",
              "        [0.1094225 ],\n",
              "        [0.1094225 ],\n",
              "        [0.11398176],\n",
              "        [0.12158054],\n",
              "        [0.12158054],\n",
              "        [0.1094225 ],\n",
              "        [0.11398176],\n",
              "        [0.11854107],\n",
              "        [0.13525838],\n",
              "        [0.12765959]]),\n",
              " array([[0.14912319],\n",
              "        [0.3157893 ],\n",
              "        [0.28947391],\n",
              "        [0.27192965],\n",
              "        [0.22807001],\n",
              "        [0.12280713],\n",
              "        [0.22807001],\n",
              "        [0.29824571],\n",
              "        [0.3684214 ],\n",
              "        [0.25438606],\n",
              "        [0.22807001],\n",
              "        [0.34210535]]))"
            ]
          },
          "metadata": {},
          "execution_count": 54
        }
      ],
      "source": [
        "mtr_scaled[0:12],mtr1_scaled[0:12]"
      ]
    },
    {
      "cell_type": "code",
      "execution_count": null,
      "id": "7db9667a",
      "metadata": {
        "colab": {
          "base_uri": "https://localhost:8080/"
        },
        "id": "7db9667a",
        "outputId": "d94f874e-9836-4b67-af03-780b6154ab99"
      },
      "outputs": [
        {
          "output_type": "execute_result",
          "data": {
            "text/plain": [
              "(10, 0, 7)"
            ]
          },
          "metadata": {},
          "execution_count": 67
        }
      ],
      "source": [
        "\n",
        "d = np.array(d)\n",
        "x =  d[:10, :-1,:]\n",
        "x\n",
        "\n",
        "d1 = np.array(d1)\n",
        "x1 = d1[:10, :-1,:]\n",
        "x1.shape\n",
        "# x: array([], shape=(10, 6, 0), dtype=float64)\n"
      ]
    },
    {
      "cell_type": "code",
      "execution_count": null,
      "id": "3126d128",
      "metadata": {
        "colab": {
          "base_uri": "https://localhost:8080/"
        },
        "id": "3126d128",
        "outputId": "11001454-8552-4b26-bb28-f161b8389511"
      },
      "outputs": [
        {
          "output_type": "execute_result",
          "data": {
            "text/plain": [
              "array([], shape=(10, 7, 0), dtype=float64)"
            ]
          },
          "metadata": {},
          "execution_count": 94
        }
      ],
      "source": [
        "d = []\n",
        "for i in range(len(mtr_scaled)-8):\n",
        "    d.append(mtr_scaled[i: i + 8])\n",
        "d = np.array(d)\n",
        "d = np.array([x[i].T for i in range(10)])\n",
        "# only show top10\n",
        "d\n",
        "d1 = []\n",
        "for i in range(len(mtr1_scaled)-8):\n",
        "    d1.append(mtr1_scaled[i: i + 8])\n",
        "d1 = np.array(d1)\n",
        "d1 = np.array([x1[i].T for i in range(10)])\n",
        "# only show top10\n",
        "d1\n",
        "\n"
      ]
    },
    {
      "cell_type": "code",
      "execution_count": null,
      "id": "6d3590e1",
      "metadata": {
        "colab": {
          "base_uri": "https://localhost:8080/"
        },
        "id": "6d3590e1",
        "outputId": "4b09f6fa-8d8f-4c90-a8bc-4bc1cbb0e4e9"
      },
      "outputs": [
        {
          "output_type": "execute_result",
          "data": {
            "text/plain": [
              "array([], shape=(10, 0), dtype=float64)"
            ]
          },
          "metadata": {},
          "execution_count": 71
        }
      ],
      "source": [
        "y =  d[:10, -1, :]\n",
        "y\n",
        "y1 = d1[:10, -1, :]\n",
        "y1\n",
        "# not use\n",
        "# y: array([], shape=(10, 0), dtype=float64)"
      ]
    },
    {
      "cell_type": "code",
      "execution_count": null,
      "id": "2a3a5235",
      "metadata": {
        "id": "2a3a5235"
      },
      "outputs": [],
      "source": [
        "lookback = 8\n",
        "def split_data(stock, lookback):\n",
        "    data_raw = stock\n",
        "    data = []\n",
        "    for index in range(len(data_raw) - lookback):\n",
        "        data.append(data_raw[index: index + lookback])\n",
        "\n",
        "    data = np.array(data)\n",
        "\n",
        "    test_set_size = int(np.round(0.2*stock.shape[0]))\n",
        "    train_set_size = stock.shape[0] - test_set_size\n",
        "\n",
        "    x_train = data[:train_set_size, :-1,:]\n",
        "    x_train = np.array([x_train[i].T for i in range(len(x_train))])\n",
        "\n",
        "    y_train = data[:train_set_size, -1, :]\n",
        "    y_train = np.array([y_train[i].T for i in range(len(y_train))])\n",
        "\n",
        "    x_test = data[train_set_size:, :-1, :]\n",
        "    x_test = np.array([x_test[i].T for i in range(len(x_test))])\n",
        "\n",
        "    y_test = data[train_set_size:, -1, :]\n",
        "    y_test = np.array([y_test[i].T for i in range(len(y_test))])\n",
        "\n",
        "    return (x_train, y_train, x_test, y_test)"
      ]
    },
    {
      "cell_type": "code",
      "execution_count": null,
      "id": "be1da64e",
      "metadata": {
        "id": "be1da64e",
        "scrolled": false,
        "colab": {
          "base_uri": "https://localhost:8080/"
        },
        "outputId": "d271de33-f90d-441a-e8ea-15d1a22d54c5"
      },
      "outputs": [
        {
          "output_type": "execute_result",
          "data": {
            "text/plain": [
              "((2070, 1, 7), (2070, 1), (509, 1, 7), (509, 1))"
            ]
          },
          "metadata": {},
          "execution_count": 96
        }
      ],
      "source": [
        "x_train, y_train, x_test, y_test = split_data(mtr_scaled, lookback)\n",
        "x_train.shape, y_train.shape, x_test.shape, y_test.shape"
      ]
    },
    {
      "cell_type": "code",
      "source": [
        "lookback = 8\n",
        "def split_val_data(stock, lookback):\n",
        "    data_raw = stock\n",
        "    data = []\n",
        "    for index in range(len(data_raw) - lookback):\n",
        "        data.append(data_raw[index: index + lookback])\n",
        "\n",
        "    data = np.array(data)\n",
        "\n",
        "    val_set_size = int(stock.shape[0])\n",
        "\n",
        "    x_val = data[:val_set_size, :-1,:]\n",
        "    x_val = np.array([x_val[i].T for i in range(len(x_val))])\n",
        "\n",
        "    y_val = data[:val_set_size, -1, :]\n",
        "    y_val = np.array([y_val[i].T for i in range(len(y_val))])\n",
        "\n",
        "\n",
        "    return (x_val, y_val)"
      ],
      "metadata": {
        "id": "ZLD3O0s2g-kM"
      },
      "id": "ZLD3O0s2g-kM",
      "execution_count": null,
      "outputs": []
    },
    {
      "cell_type": "code",
      "source": [
        "x_val, y_val = split_val_data(mtr1_scaled, lookback)"
      ],
      "metadata": {
        "id": "V4Oneo_JgzP7"
      },
      "id": "V4Oneo_JgzP7",
      "execution_count": null,
      "outputs": []
    },
    {
      "cell_type": "code",
      "execution_count": null,
      "id": "08012e4a",
      "metadata": {
        "colab": {
          "base_uri": "https://localhost:8080/"
        },
        "id": "08012e4a",
        "outputId": "bb2ef125-aa6c-40c6-d574-88466739143d"
      },
      "outputs": [
        {
          "output_type": "execute_result",
          "data": {
            "text/plain": [
              "(array([[[0.12158054, 0.11094229, 0.1094225 , ..., 0.11398176,\n",
              "          0.12158054, 0.12158054]],\n",
              " \n",
              "        [[0.11094229, 0.1094225 , 0.1094225 , ..., 0.12158054,\n",
              "          0.12158054, 0.1094225 ]],\n",
              " \n",
              "        [[0.1094225 , 0.1094225 , 0.11398176, ..., 0.12158054,\n",
              "          0.1094225 , 0.11398176]],\n",
              " \n",
              "        ...,\n",
              " \n",
              "        [[0.6899696 , 0.63981758, 0.63829784, ..., 0.65349541,\n",
              "          0.64741636, 0.65197568]],\n",
              " \n",
              "        [[0.63981758, 0.63829784, 0.65349541, ..., 0.64741636,\n",
              "          0.65197568, 0.64893621]],\n",
              " \n",
              "        [[0.63829784, 0.65349541, 0.65349541, ..., 0.65197568,\n",
              "          0.64893621, 0.63677811]]]),\n",
              " array([[0.1094225 ],\n",
              "        [0.11398176],\n",
              "        [0.11854107],\n",
              "        ...,\n",
              "        [0.64893621],\n",
              "        [0.63677811],\n",
              "        [0.64741636]]))"
            ]
          },
          "metadata": {},
          "execution_count": 17
        }
      ],
      "source": [
        "x_train, y_train"
      ]
    },
    {
      "cell_type": "code",
      "execution_count": null,
      "id": "60b63e53",
      "metadata": {
        "id": "60b63e53"
      },
      "outputs": [],
      "source": [
        "device = \"cuda\" if torch.cuda.is_available() else \"cpu\""
      ]
    },
    {
      "cell_type": "code",
      "execution_count": null,
      "id": "7ff1e822",
      "metadata": {
        "colab": {
          "base_uri": "https://localhost:8080/",
          "height": 35
        },
        "id": "7ff1e822",
        "outputId": "21bb8b40-98da-4224-b3f8-d022b761dbe6"
      },
      "outputs": [
        {
          "output_type": "execute_result",
          "data": {
            "text/plain": [
              "'cpu'"
            ],
            "application/vnd.google.colaboratory.intrinsic+json": {
              "type": "string"
            }
          },
          "metadata": {},
          "execution_count": 22
        }
      ],
      "source": [
        "device"
      ]
    },
    {
      "cell_type": "code",
      "execution_count": null,
      "id": "67c74d03",
      "metadata": {
        "id": "67c74d03"
      },
      "outputs": [],
      "source": [
        "class NeuralNetwork(torch.nn.Module):\n",
        "    def __init__(self):\n",
        "        super().__init__()\n",
        "        self.layers = torch.nn.Sequential(\n",
        "            torch.nn.Linear(lookback-1, 32),\n",
        "            torch.nn.ReLU(),\n",
        "            torch.nn.Linear(32, 32),\n",
        "            torch.nn.ReLU(),\n",
        "            torch.nn.Linear(32,1))\n",
        "\n",
        "\n",
        "    def forward(self, x):\n",
        "        return self.layers(x)"
      ]
    },
    {
      "cell_type": "code",
      "execution_count": null,
      "id": "ff468214",
      "metadata": {
        "scrolled": true,
        "id": "ff468214"
      },
      "outputs": [],
      "source": [
        "model = NeuralNetwork().to(device)\n",
        "\n",
        "loss_fn = torch.nn.MSELoss()\n",
        "optimizer = torch.optim.Adam(model.parameters(), lr=1e-3)"
      ]
    },
    {
      "cell_type": "code",
      "execution_count": null,
      "id": "98424f6e",
      "metadata": {
        "id": "98424f6e"
      },
      "outputs": [],
      "source": [
        "def train(x_train, y_train, model, loss_fn, optimizer):\n",
        "    num_batch = x_train.shape[0]//64\n",
        "    model.train()\n",
        "    for b in range(num_batch):\n",
        "        X = torch.from_numpy(x_train[b*64:(b+1)*64]).type(torch.Tensor)\n",
        "        y = torch.from_numpy(y_train[b*64:(b+1)*64]).type(torch.Tensor)\n",
        "\n",
        "        pred = model(X)\n",
        "        pred =torch.reshape(pred, (-1,1))\n",
        "\n",
        "        loss = loss_fn(pred, y)\n",
        "\n",
        "        loss.backward()\n",
        "        optimizer.step()\n",
        "        optimizer.zero_grad()"
      ]
    },
    {
      "cell_type": "code",
      "execution_count": null,
      "id": "a99d880a",
      "metadata": {
        "scrolled": true,
        "id": "a99d880a"
      },
      "outputs": [],
      "source": [
        "epochs = 15\n",
        "for i in range(epochs):\n",
        "    train(x_train, y_train, model, loss_fn, optimizer)"
      ]
    },
    {
      "cell_type": "code",
      "source": [
        "x_val.shape,y_val.shape"
      ],
      "metadata": {
        "colab": {
          "base_uri": "https://localhost:8080/"
        },
        "id": "lm2LKRRgdYbm",
        "outputId": "8888ff87-3e88-48e6-c942-b7b184d193e0"
      },
      "id": "lm2LKRRgdYbm",
      "execution_count": null,
      "outputs": [
        {
          "output_type": "execute_result",
          "data": {
            "text/plain": [
              "((71, 1, 7), (71, 1))"
            ]
          },
          "metadata": {},
          "execution_count": 98
        }
      ]
    },
    {
      "cell_type": "code",
      "execution_count": null,
      "id": "754cb986",
      "metadata": {
        "scrolled": true,
        "colab": {
          "base_uri": "https://localhost:8080/",
          "height": 449
        },
        "id": "754cb986",
        "outputId": "2d7d6109-ac15-4265-cf90-696135bccd8a"
      },
      "outputs": [
        {
          "output_type": "display_data",
          "data": {
            "text/plain": [
              "<Figure size 640x480 with 1 Axes>"
            ],
            "image/png": "[encoded data removed]"
          },
          "metadata": {}
        }
      ],
      "source": [
        "pred = torch.flatten(model(torch.from_numpy(x_train).type(torch.Tensor))).detach().numpy()\n",
        "plt.scatter(y_train.reshape(-1,),pred)\n",
        "plt.plot(np.linspace(0,0.8,20),np.linspace(0,0.8,20),color='C1')\n",
        "plt.xlabel(\"x=label\")\n",
        "plt.ylabel(\"y=pred\")\n",
        "plt.show()\n"
      ]
    },
    {
      "cell_type": "code",
      "source": [
        "# data process\n",
        "# model has been trained\n",
        "\n",
        "pred = torch.flatten(model(torch.from_numpy(x_val).type(torch.Tensor))).detach().numpy()\n",
        "plt.scatter(y_val.reshape(-1,),pred)\n",
        "plt.plot(np.linspace(0,0.8,20),np.linspace(0,0.8,20),color='C1')\n",
        "plt.xlabel(\"x=label\")\n",
        "plt.ylabel(\"y=pred\")\n",
        "plt.show()\n"
      ],
      "metadata": {
        "id": "lLYppSqAIEUN",
        "colab": {
          "base_uri": "https://localhost:8080/",
          "height": 449
        },
        "outputId": "209c8ece-e072-459c-adc6-779d77ab4dcb"
      },
      "id": "lLYppSqAIEUN",
      "execution_count": null,
      "outputs": [
        {
          "output_type": "display_data",
          "data": {
            "text/plain": [
              "<Figure size 640x480 with 1 Axes>"
            ],
            "image/png": "[encoded data removed]"
          },
          "metadata": {}
        }
      ]
    },
    {
      "cell_type": "code",
      "execution_count": null,
      "id": "34e68a06",
      "metadata": {
        "scrolled": false,
        "colab": {
          "base_uri": "https://localhost:8080/",
          "height": 449
        },
        "id": "34e68a06",
        "outputId": "8fed298b-9bc3-4fdd-f737-d318539da71f"
      },
      "outputs": [
        {
          "output_type": "display_data",
          "data": {
            "text/plain": [
              "<Figure size 640x480 with 1 Axes>"
            ],
            "image/png": "[encoded data removed]"
          },
          "metadata": {}
        }
      ],
      "source": [
        "pred = torch.flatten(model(torch.from_numpy(x_test).type(torch.Tensor))).detach().numpy()\n",
        "plt.scatter(y_test.reshape(-1,),pred)\n",
        "plt.plot(np.linspace(0.4,1,20),np.linspace(0.4,1,20),color='C1')\n",
        "plt.xlabel(\"x=label\")\n",
        "plt.ylabel(\"y=predict\")\n",
        "plt.show()\n",
        "# 数据归一化处理后的展示"
      ]
    },
    {
      "cell_type": "code",
      "source": [
        "from sklearn.metrics import mean_squared_error\n",
        "\n",
        "print(scaler.inverse_transform(y_val[0:10].reshape(-1,1)))\n",
        "print(scaler.inverse_transform(pred[0:10].reshape(-1,1)))\n",
        "mse = mean_squared_error(scaler.inverse_transform(y_val.reshape(-1,1)), scaler.inverse_transform(pred.reshape(-1,1)))\n",
        "print(\"Mean Squared Error:\", mse)"
      ],
      "metadata": {
        "colab": {
          "base_uri": "https://localhost:8080/"
        },
        "id": "P1q4v9JVjbhj",
        "outputId": "fc2b356e-ed1b-45c7-8e4e-d26a4b7c8303"
      },
      "id": "P1q4v9JVjbhj",
      "execution_count": null,
      "outputs": [
        {
          "output_type": "stream",
          "name": "stdout",
          "text": [
            "[[45.        ]\n",
            " [45.40000153]\n",
            " [44.75      ]\n",
            " [44.59999847]\n",
            " [45.25      ]\n",
            " [44.04999924]\n",
            " [44.5       ]\n",
            " [43.59999847]\n",
            " [43.34999847]\n",
            " [43.75      ]]\n",
            "[[44.453526]\n",
            " [44.8111  ]\n",
            " [44.7609  ]\n",
            " [44.778427]\n",
            " [44.68461 ]\n",
            " [44.69282 ]\n",
            " [44.82321 ]\n",
            " [44.708572]\n",
            " [44.677998]\n",
            " [44.257515]]\n",
            "Mean Squared Error: 0.7858000983775946\n"
          ]
        }
      ]
    },
    {
      "cell_type": "code",
      "execution_count": null,
      "id": "7f69922d",
      "metadata": {
        "scrolled": true,
        "colab": {
          "base_uri": "https://localhost:8080/"
        },
        "id": "7f69922d",
        "outputId": "affc5040-677a-45b4-9664-68c61d4ba1b2"
      },
      "outputs": [
        {
          "output_type": "stream",
          "name": "stdout",
          "text": [
            "[[44.34999847]\n",
            " [44.59999847]\n",
            " [44.84999847]\n",
            " [44.5       ]\n",
            " [44.29999924]\n",
            " [44.54999924]\n",
            " [44.04999924]\n",
            " [43.59999847]\n",
            " [43.29999924]\n",
            " [42.20000076]]\n",
            "[[44.17214 ]\n",
            " [44.215908]\n",
            " [44.255997]\n",
            " [44.38562 ]\n",
            " [44.39896 ]\n",
            " [44.324863]\n",
            " [44.446182]\n",
            " [44.453228]\n",
            " [44.34204 ]\n",
            " [44.19617 ]]\n"
          ]
        }
      ],
      "source": [
        "print(scaler.inverse_transform(y_test[0:10].reshape(-1,1)))\n",
        "print(scaler.inverse_transform(pred[0:10].reshape(-1,1)))\n",
        "# 还原归一化，展示前十个"
      ]
    }
  ],
  "metadata": {
    "colab": {
      "provenance": [],
      "include_colab_link": true
    },
    "kernelspec": {
      "display_name": "Python 3",
      "language": "python",
      "name": "python3"
    },
    "language_info": {
      "codemirror_mode": {
        "name": "ipython",
        "version": 3
      },
      "file_extension": ".py",
      "mimetype": "text/x-python",
      "name": "python",
      "nbconvert_exporter": "python",
      "pygments_lexer": "ipython3",
      "version": "3.6.13"
    }
  },
  "nbformat": 4,
  "nbformat_minor": 5
}