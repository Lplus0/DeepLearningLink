{
 "cells": [
  {
   "cell_type": "code",
   "execution_count": 1,
   "id": "37687bc4",
   "metadata": {},
   "outputs": [
    {
     "ename": "NameError",
     "evalue": "name 'gym' is not defined",
     "output_type": "error",
     "traceback": [
      "\u001b[1;31m---------------------------------------------------------------------------\u001b[0m",
      "\u001b[1;31mNameError\u001b[0m                                 Traceback (most recent call last)",
      "Cell \u001b[1;32mIn[1], line 54\u001b[0m\n\u001b[0;32m     51\u001b[0m     \u001b[38;5;28mprint\u001b[39m(q_table)\n\u001b[0;32m     53\u001b[0m \u001b[38;5;28;01mif\u001b[39;00m \u001b[38;5;18m__name__\u001b[39m \u001b[38;5;241m==\u001b[39m \u001b[38;5;124m\"\u001b[39m\u001b[38;5;124m__main__\u001b[39m\u001b[38;5;124m\"\u001b[39m:\n\u001b[1;32m---> 54\u001b[0m     main()\n",
      "Cell \u001b[1;32mIn[1], line 37\u001b[0m, in \u001b[0;36mmain\u001b[1;34m()\u001b[0m\n\u001b[0;32m     35\u001b[0m \u001b[38;5;28;01mdef\u001b[39;00m \u001b[38;5;21mmain\u001b[39m():\n\u001b[0;32m     36\u001b[0m     \u001b[38;5;66;03m# Create the CartPole environment\u001b[39;00m\n\u001b[1;32m---> 37\u001b[0m     env \u001b[38;5;241m=\u001b[39m gym\u001b[38;5;241m.\u001b[39mmake(\u001b[38;5;124m'\u001b[39m\u001b[38;5;124mCartPole-v1\u001b[39m\u001b[38;5;124m'\u001b[39m)\n\u001b[0;32m     39\u001b[0m     \u001b[38;5;66;03m# Set hyperparameters\u001b[39;00m\n\u001b[0;32m     40\u001b[0m     num_episodes \u001b[38;5;241m=\u001b[39m \u001b[38;5;241m1000\u001b[39m\n",
      "\u001b[1;31mNameError\u001b[0m: name 'gym' is not defined"
     ]
    }
   ],
   "source": [
    "import numpy as np\n",
    "import random\n",
    "\n",
    "def q_learning(env, num_episodes, max_steps, learning_rate, discount_factor, epsilon):\n",
    "    # Initialize the Q-table\n",
    "    q_table = np.zeros((env.observation_space.shape[0], env.action_space.n))\n",
    "\n",
    "    # Iterate over episodes\n",
    "    for episode in range(num_episodes):\n",
    "        # Reset the environment for each episode\n",
    "        state = env.reset()\n",
    "\n",
    "        # Iterate over steps within each episode\n",
    "        for step in range(max_steps):\n",
    "            # Choose an action based on epsilon-greedy policy\n",
    "            if random.random() < epsilon:\n",
    "                action = env.action_space.sample()\n",
    "            else:\n",
    "                action = np.argmax(q_table[state])\n",
    "\n",
    "            # Take the chosen action and observe the next state and reward\n",
    "            next_state, reward, done, _ = env.step(action)\n",
    "\n",
    "            # Update the Q-table using the Q-learning update rule\n",
    "            q_table[state][action] += learning_rate * (reward + discount_factor * np.max(q_table[next_state]) - q_table[state][action])\n",
    "\n",
    "            # Move to the next state\n",
    "            state = next_state\n",
    "\n",
    "            # Break if the episode is finished\n",
    "            if done:\n",
    "                break\n",
    "\n",
    "    return q_table\n",
    "def main():\n",
    "    # Create the CartPole environment\n",
    "    env = gym.make('CartPole-v1')\n",
    "\n",
    "    # Set hyperparameters\n",
    "    num_episodes = 1000\n",
    "    max_steps = 200\n",
    "    learning_rate = 0.1\n",
    "    discount_factor = 0.99\n",
    "    epsilon = 0.1\n",
    "\n",
    "    # Run the Q-learning algorithm\n",
    "    q_table = q_learning(env, num_episodes, max_steps, learning_rate, discount_factor, epsilon)\n",
    "\n",
    "    # Print the learned Q-table\n",
    "    print(\"Learned Q-table:\")\n",
    "    print(q_table)\n",
    "\n",
    "if __name__ == \"__main__\":\n",
    "    main()"
   ]
  },
  {
   "cell_type": "code",
   "execution_count": null,
   "id": "3d984855",
   "metadata": {},
   "outputs": [],
   "source": []
  }
 ],
 "metadata": {
  "kernelspec": {
   "display_name": "Python 3 (ipykernel)",
   "language": "python",
   "name": "python3"
  },
  "language_info": {
   "codemirror_mode": {
    "name": "ipython",
    "version": 3
   },
   "file_extension": ".py",
   "mimetype": "text/x-python",
   "name": "python",
   "nbconvert_exporter": "python",
   "pygments_lexer": "ipython3",
   "version": "3.11.5"
  }
 },
 "nbformat": 4,
 "nbformat_minor": 5
}
